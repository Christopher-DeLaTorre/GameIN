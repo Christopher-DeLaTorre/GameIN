{
 "cells": [
  {
   "cell_type": "code",
   "execution_count": 11,
   "metadata": {},
   "outputs": [],
   "source": [
    "import pandas as pd\n",
    "import numpy as np"
   ]
  },
  {
   "cell_type": "code",
   "execution_count": 12,
   "metadata": {},
   "outputs": [],
   "source": [
    "df = pd.read_csv('appstore_games.csv')\n",
    "ls_name = df['Name'].dropna()\n",
    "ls_price = df['Price'].dropna()\n",
    "ls_inapp = df['In-app Purchases'].dropna()\n",
    "ls_avg_user_rating = df['Average User Rating'].dropna()\n",
    "ls_age_rating = df['Age Rating'].dropna()"
   ]
  },
  {
   "cell_type": "code",
   "execution_count": 13,
   "metadata": {},
   "outputs": [
    {
     "name": "stdout",
     "output_type": "stream",
     "text": [
      "0                           Sudoku\n",
      "1                          Reversi\n",
      "2                          Morocco\n",
      "3                    Sudoku (Free)\n",
      "4                     Senet Deluxe\n",
      "                   ...            \n",
      "17002    Stack Puzzle : Rise Tower\n",
      "17003                    EachOther\n",
      "17004           Rabbit Vs Tortoise\n",
      "17005                       FaTaLL\n",
      "17006     The Three Kingdoms :Bomb\n",
      "Name: Name, Length: 17007, dtype: object\n"
     ]
    }
   ],
   "source": [
    "print(ls_name)"
   ]
  },
  {
   "cell_type": "code",
   "execution_count": 14,
   "metadata": {},
   "outputs": [
    {
     "name": "stdout",
     "output_type": "stream",
     "text": [
      "0        2.99\n",
      "1        1.99\n",
      "2        0.00\n",
      "3        0.00\n",
      "4        2.99\n",
      "         ... \n",
      "17002    0.00\n",
      "17003    0.00\n",
      "17004    0.00\n",
      "17005    0.00\n",
      "17006    0.00\n",
      "Name: Price, Length: 16983, dtype: float64\n"
     ]
    },
    {
     "data": {
      "text/plain": [
       "0.8134187128304518"
      ]
     },
     "execution_count": 14,
     "metadata": {},
     "output_type": "execute_result"
    }
   ],
   "source": [
    "print(ls_price)\n",
    "np.mean(ls_price)"
   ]
  },
  {
   "cell_type": "code",
   "execution_count": 15,
   "metadata": {},
   "outputs": [
    {
     "name": "stdout",
     "output_type": "stream",
     "text": [
      "0        4.0\n",
      "1        3.5\n",
      "2        3.0\n",
      "3        3.5\n",
      "4        3.5\n",
      "        ... \n",
      "16950    3.0\n",
      "16956    5.0\n",
      "16962    5.0\n",
      "16967    5.0\n",
      "16993    5.0\n",
      "Name: Average User Rating, Length: 7561, dtype: float64\n"
     ]
    },
    {
     "data": {
      "text/plain": [
       "4.06090464224309"
      ]
     },
     "execution_count": 15,
     "metadata": {},
     "output_type": "execute_result"
    }
   ],
   "source": [
    "print(ls_avg_user_rating)\n",
    "np.mean(ls_avg_user_rating)\n"
   ]
  },
  {
   "cell_type": "code",
   "execution_count": 16,
   "metadata": {},
   "outputs": [
    {
     "name": "stdout",
     "output_type": "stream",
     "text": [
      "0        4+\n",
      "1        4+\n",
      "2        4+\n",
      "3        4+\n",
      "4        4+\n",
      "         ..\n",
      "17002    4+\n",
      "17003    4+\n",
      "17004    4+\n",
      "17005    4+\n",
      "17006    4+\n",
      "Name: Age Rating, Length: 17007, dtype: object\n"
     ]
    }
   ],
   "source": [
    "print(ls_age_rating)"
   ]
  },
  {
   "cell_type": "code",
   "execution_count": null,
   "metadata": {},
   "outputs": [],
   "source": []
  },
  {
   "cell_type": "code",
   "execution_count": 22,
   "metadata": {},
   "outputs": [
    {
     "name": "stdout",
     "output_type": "stream",
     "text": [
      "5                                            1.99\n",
      "15                                           0.99\n",
      "16                                           0.99\n",
      "18       1.99, 0.99, 1.99, 0.99, 4.99, 1.99, 1.99\n",
      "19                               0.99, 0.99, 0.99\n",
      "                           ...                   \n",
      "16972                                        1.99\n",
      "16978                1.99, 9.99, 4.99, 2.99, 0.99\n",
      "16980                                  2.99, 9.99\n",
      "16991                                        1.99\n",
      "17005                           9.99, 49.99, 3.99\n",
      "Name: In-app Purchases, Length: 7683, dtype: object\n"
     ]
    }
   ],
   "source": [
    "print(ls_inapp)"
   ]
  },
  {
   "cell_type": "code",
   "execution_count": null,
   "metadata": {},
   "outputs": [],
   "source": []
  },
  {
   "cell_type": "code",
   "execution_count": null,
   "metadata": {},
   "outputs": [],
   "source": []
  },
  {
   "cell_type": "code",
   "execution_count": null,
   "metadata": {},
   "outputs": [],
   "source": []
  }
 ],
 "metadata": {
  "kernelspec": {
   "display_name": "Python 3",
   "language": "python",
   "name": "python3"
  },
  "language_info": {
   "codemirror_mode": {
    "name": "ipython",
    "version": 3
   },
   "file_extension": ".py",
   "mimetype": "text/x-python",
   "name": "python",
   "nbconvert_exporter": "python",
   "pygments_lexer": "ipython3",
   "version": "3.8.5"
  }
 },
 "nbformat": 4,
 "nbformat_minor": 4
}
